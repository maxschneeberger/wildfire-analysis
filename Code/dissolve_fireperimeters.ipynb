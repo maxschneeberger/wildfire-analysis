{
 "cells": [
  {
   "cell_type": "code",
   "execution_count": 2,
   "metadata": {
    "scrolled": true
   },
   "outputs": [
    {
     "name": "stdout",
     "output_type": "stream",
     "text": [
      "Feature classes created successfully!\n"
     ]
    }
   ],
   "source": [
    "# workflow: storing each year of fire perimeters in a separate feature class\n",
    "import arcpy\n",
    "input_fc = r\"C:\\Users\\s1102917\\I3\\arcgispro_fire_firstrun\\arcgispro_testing_fire.gdb\\san_diego_fire_perimeters_dissolved\"\n",
    "output_gdb = r\"C:\\Users\\s1102917\\I3\\arcgispro_fire_firstrun\\arcgispro_testing_fire.gdb\"\n",
    "\n",
    "# getting a list of unique years from the \"YEAR_\" field\n",
    "unique_years = [row[0] for row in arcpy.da.SearchCursor(input_fc, [\"YEAR_\"])]\n",
    "\n",
    "# loop trough each year and create a seperate feature class\n",
    "for year in unique_years:\n",
    "    output_fc = f\"{output_gdb}/FirePerimeters_{year}\"\n",
    "    where_clause = f'\"YEAR_\" = {year}'\n",
    "    if arcpy.Exists(\"temp_layer\"):\n",
    "        arcpy.management.Delete(\"temp_layer\")\n",
    "    arcpy.management.MakeFeatureLayer(input_fc, \"temp_layer\", where_clause)\n",
    "    arcpy.management.CopyFeatures(\"temp_layer\", output_fc)\n",
    "    arcpy.management.Delete(\"temp_layer\")\n",
    "\n",
    "print(\"Feature classes created successfully!\")"
   ]
  },
  {
   "cell_type": "code",
   "execution_count": null,
   "metadata": {},
   "outputs": [],
   "source": []
  }
 ],
 "metadata": {
  "kernelspec": {
   "display_name": "ArcGISPro",
   "language": "python",
   "name": "python3"
  },
  "language_info": {
   "file_extension": ".py",
   "mimetype": "text/x-python",
   "name": "python",
   "version": "3.11.10"
  }
 },
 "nbformat": 4,
 "nbformat_minor": 4
}
